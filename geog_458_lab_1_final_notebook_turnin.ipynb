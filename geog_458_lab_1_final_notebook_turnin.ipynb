{
 "metadata": {
  "name": "geog_458_lab_1_final_notebook_turnin.ipynb"
 },
 "nbformat": 3,
 "nbformat_minor": 0,
 "worksheets": [
  {
   "cells": [
    {
     "cell_type": "raw",
     "metadata": {},
     "source": [
      "GEOG 458\n",
      "ArcPy Lab_1\n",
      "4-28-14\n",
      "Prescott Pettiette\n",
      "\n",
      "Collaborated with: Jorge Espinoza, Saad Mohamad, and Luke Nguyen"
     ]
    },
    {
     "cell_type": "code",
     "collapsed": false,
     "input": [
      "# These allow ArcPy to run in Canopy. \n",
      "\n",
      "import sys\n",
      "sys.path.append('C:\\\\Program Files (x86)\\\\ArcGIS\\\\Desktop10.2\\\\bin')\n",
      "sys.path.append('C:\\\\Program Files (x86)\\\\ArcGIS\\\\Desktop10.2\\\\arcpy')\n",
      "sys.path.append('C:\\\\Program Files (x86)\\\\ArcGIS\\\\Desktop10.2\\\\ArcToolbox\\\\Scripts')\n",
      "import arcpy\n"
     ],
     "language": "python",
     "metadata": {},
     "outputs": [],
     "prompt_number": 1
    },
    {
     "cell_type": "heading",
     "level": 4,
     "metadata": {},
     "source": [
      "Code for Question 1 on Lab 1"
     ]
    },
    {
     "cell_type": "raw",
     "metadata": {},
     "source": [
      "The following code is to answer the question: \n",
      "\n",
      "For each county in Washington, create a GeoJSON file whose filename is the county name and whose contents are the polygons for the block groups within that county. This means that you will end up with as many GeoJSON files as there are counties in WA. Each such file should be named after a county and contain only the block groups from that county. \n",
      "\n",
      "    I started to asnwer the question by joining the Shapefile and the Database file together. I next created a cursor to go through the newly joined file and print out all the names of the 39 counties in Washington into a list. Once I had the list created I exported new shapefiles and other necessary data that was named after each of the 39 counties in Washington. After I had all of the counties in their respected Shapefiles, I checked to see if they worked properly in ArcMap, and they all worked flawlessly. I then turned all of the county Shapefiles into .geojson files and uploaded them onto GitHub to see if they also worked there. After much trial and error I was able to create all of the GeoJSON files as there are counties in Washington and display their polygons on GeoJSON on GitHub. \n"
     ]
    },
    {
     "cell_type": "code",
     "collapsed": false,
     "input": [
      "#  Sets my enviornment for this question\n",
      "\n",
      "arcpy.env.workspace = \"H:\\\\Geog_458\\\\Lab_1\\\\\""
     ],
     "language": "python",
     "metadata": {},
     "outputs": [],
     "prompt_number": 2
    },
    {
     "cell_type": "code",
     "collapsed": false,
     "input": [
      "# Joins the saep_bg10.shp and WashingtonFIPS.dbf\n",
      "\n",
      "arcpy.JoinField_management(\"saep_bg10.shp\",\"COUNTYFP10\",\"WashingtonFIPS.dbf\",\"FIPSCounty\",\"CountyName\")"
     ],
     "language": "python",
     "metadata": {},
     "outputs": [
      {
       "metadata": {},
       "output_type": "pyout",
       "prompt_number": 3,
       "text": [
        "<Result 'saep_bg10.shp'>"
       ]
      }
     ],
     "prompt_number": 3
    },
    {
     "cell_type": "code",
     "collapsed": false,
     "input": [
      "# Searches the field 'CountyName' and prints a list of all 39 counties in Washington\n",
      "\n",
      "cursor = arcpy.da.SearchCursor(\"saep_bg10.shp\", \"CountyName\")\n",
      "my_list = []\n",
      "for row in cursor: \n",
      "     if row[0] not in my_list:\n",
      "         my_list.append(row[0])\n",
      "print my_list                    # Prints all 39 counties in Washington\n",
      "\n",
      "del row                          # Deletes the row\n",
      "del cursor                       # Deletes the cursor\n",
      "            "
     ],
     "language": "python",
     "metadata": {},
     "outputs": [
      {
       "output_type": "stream",
       "stream": "stdout",
       "text": [
        "[u'Adams', u'Asotin', u'Benton', u'Chelan', u'Clallam', u'Clark', u'Columbia', u'Cowlitz', u'Douglas', u'Ferry', u'Franklin', u'Garfield', u'Grant', u'Grays Harbor', u'Island', u'Jefferson', u'King', u'Kitsap', u'Kittitas', u'Klickitat', u'Lewis', u'Lincoln', u'Mason', u'Okanogan', u'Pacific', u'Pend Oreille', u'Pierce', u'San Juan', u'Skagit', u'Skamania', u'Snohomish', u'Spokane', u'Stevens', u'Thurston', u'Wahkiakum', u'Walla Walla', u'Whatcom', u'Whitman', u'Yakima']\n"
       ]
      }
     ],
     "prompt_number": 20
    },
    {
     "cell_type": "code",
     "collapsed": false,
     "input": [
      "# This takes my_list from above and creates Shapefiles and necessary files \n",
      "\n",
      "arcpy.env.overwriteOutput = True                                         # Overwrites the script\n",
      "\n",
      "arcpy.MakeFeatureLayer_management(\"saep_bg10.dbf\", \"County_Shapefiles\")  # Inputs saep_bg10.dbf and outputs County_Shapefiles\n",
      "\n",
      "for county in my_list:\n",
      "\n",
      "    arcpy.SelectLayerByAttribute_management(\"County_Shapefiles\", \"NEW_SELECTION\", \" \\\"CountyName\\\" = '\"+county+\"'\")\n",
      "    \n",
      "    arcpy.CopyFeatures_management( \"County_Shapefiles\", county+\".shp\")\n",
      "    \n",
      "arcpy.env.overwriteOutput = False                                        # Ends the overwrite for the script\n"
     ],
     "language": "python",
     "metadata": {},
     "outputs": [],
     "prompt_number": 21
    },
    {
     "cell_type": "code",
     "collapsed": false,
     "input": [
      "# The code below is to setup the enviornment variables for GDAL/OGR first.\n",
      "\n",
      "from subprocess import call\n",
      "import os\n",
      "\n",
      "os.environ[\"GDAL_DATA\"] = \"C:\\\\OSGeo4W\\\\share\\\\gdal\"\n",
      "os.environ[\"GDAL_DRIVER_PATH\"] = \"C:\\\\OSGeo4W\\\\bin\\\\gdalplugins\"\n",
      "os.environ[\"PROJ_LIB\"] = \"C:\\\\OSGeo4W\\\\share\\\\proj\"\n",
      "os.environ[\"PATH\"] = \"C:\\\\OSGeo4W\\\\bin;\"+os.environ[\"PATH\"]+\";C:\\\\OSGeo4W\\\\apps\\\\msys\\\\bin;C:\\\\OSGeo4W\\\\apps\\\\Python27\\\\Scripts\"\n",
      "\n"
     ],
     "language": "python",
     "metadata": {},
     "outputs": [],
     "prompt_number": 22
    },
    {
     "cell_type": "code",
     "collapsed": false,
     "input": [
      "# The following code looks at what is stored in my_list and calls the program directly.\n",
      "\n",
      "for geojson in my_list:\n",
      "    geo = \"H:\\\\Geog_458\\\\Lab_1\\\\\" + geojson + \".geojson\" # Add's the .geojson extention to the output files.\n",
      "    json = \"H:\\\\Geog_458\\\\Lab_1\\\\\" + geojson + \".shp\"    # Add's the .shp extention to the output files.\n",
      "    call(['C:\\\\OSGeo4W\\\\bin\\\\ogr2ogr',\n",
      "      '-f','GeoJSON','-t_srs','WGS84',                   # Shows that the output file is in a GeoJSON format and in correct projection                                                                 \n",
      "      '-s_srs','EPSG:2927', geo, json])                  # the EPSG:2927 is allows the projection to display properly\n",
      "    "
     ],
     "language": "python",
     "metadata": {},
     "outputs": [],
     "prompt_number": 23
    },
    {
     "cell_type": "heading",
     "level": 4,
     "metadata": {},
     "source": [
      "Code for Question 2 on Lab 1"
     ]
    },
    {
     "cell_type": "raw",
     "metadata": {},
     "source": [
      "The following code is to answer the question: \n",
      "\n",
      "Print out a ranked list, in descending order, of the ten largest total populations in 2013 of counties in Washington, according to this dataset.\n",
      "\n",
      "I started by setting my workspace and joining the saep_bg10.shp and the WashingtonFIPS.dbf files. Next I used arcpy.Frequency_analysis syntax to read the attribute table and create a new table containing new unique values for the sum of the population for each of the counties in Washington. After I had the new unique values I put the POP2013 into DESCENDING order. I then used a SearchCursor to look through the new unique table of POP2013 in DESCENDING order and then printed out the top ten counties with the highest population values."
     ]
    },
    {
     "cell_type": "code",
     "collapsed": false,
     "input": [
      "#  Sets my enviornment for this question\n",
      "\n",
      "arcpy.env.workspace = \"H:\\\\Geog_458\\\\Lab_1\\\\\""
     ],
     "language": "python",
     "metadata": {},
     "outputs": [],
     "prompt_number": 2
    },
    {
     "cell_type": "code",
     "collapsed": false,
     "input": [
      "# Joins saep_bg10.shp and WashingtonFIPS.dbf\n",
      "\n",
      "arcpy.JoinField_management(\"saep_bg10.shp\",\"COUNTYFP10\",\"WashingtonFIPS.dbf\",\"FIPSCounty\",\"CountyName\")"
     ],
     "language": "python",
     "metadata": {},
     "outputs": [
      {
       "metadata": {},
       "output_type": "pyout",
       "prompt_number": 3,
       "text": [
        "<Result 'H:\\\\Geog_458\\\\Lab_1\\\\saep_bg10.shp'>"
       ]
      }
     ],
     "prompt_number": 3
    },
    {
     "cell_type": "code",
     "collapsed": false,
     "input": [
      "# Sums the counties populations in 2013 and prints the top ten counties with the highest population\n",
      "\n",
      "arcpy.Frequency_analysis(\"saep_bg10.shp\", \"H:\\\\Geog_458\\\\Lab_1\\\\sum_pop_table\", [\"CountyName\"], [\"POP2013\"])\n",
      "arcpy.Frequency_analysis(\"sum_pop_table\", \"H:\\\\Geog_458\\\\Lab_1\\\\population\", [\"POP2013\"], [\"FID\"])\n",
      "arcpy.Sort_management(\"sum_pop_table\", \"sort_pop\", [[\"POP2013\", \"DESCENDING\"]])\n",
      "with arcpy.da.SearchCursor(\"sort_pop\", [\"POP2013\"],\"\"\" Rowid_1 < 11\"\"\") as cursor:\n",
      "    for row in cursor: \n",
      "        print row[0]          # Prints the top ten counties by population in 2013"
     ],
     "language": "python",
     "metadata": {},
     "outputs": [
      {
       "output_type": "stream",
       "stream": "stdout",
       "text": [
        "1981900.0\n",
        "814500.0\n",
        "730500.0\n",
        "480000.0\n",
        "435500.0\n",
        "260100.0\n",
        "254000.0\n",
        "247250.0\n",
        "205800.0\n",
        "183400.0\n"
       ]
      }
     ],
     "prompt_number": 15
    }
   ],
   "metadata": {}
  }
 ]
}
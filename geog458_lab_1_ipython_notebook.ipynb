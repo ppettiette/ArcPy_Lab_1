{
 "metadata": {
  "name": "geog458_lab_1_ipython_notebook.ipynb"
 },
 "nbformat": 3,
 "nbformat_minor": 0,
 "worksheets": [
  {
   "cells": [
    {
     "cell_type": "raw",
     "metadata": {},
     "source": [
      "GEOG 458\n",
      "ArcPy Lab_1\n",
      "4-28-14\n",
      "Prescott Pettiette\n",
      "\n",
      "Collaborated with: Jorge Espinoza"
     ]
    },
    {
     "cell_type": "code",
     "collapsed": false,
     "input": [
      "# These allow ArcPy to run in Canopy. \n",
      "\n",
      "import sys\n",
      "sys.path.append('C:\\\\Program Files (x86)\\\\ArcGIS\\\\Desktop10.2\\\\bin')\n",
      "sys.path.append('C:\\\\Program Files (x86)\\\\ArcGIS\\\\Desktop10.2\\\\arcpy')\n",
      "sys.path.append('C:\\\\Program Files (x86)\\\\ArcGIS\\\\Desktop10.2\\\\ArcToolbox\\\\Scripts')\n",
      "import arcpy\n"
     ],
     "language": "python",
     "metadata": {},
     "outputs": [],
     "prompt_number": 1
    },
    {
     "cell_type": "heading",
     "level": 4,
     "metadata": {},
     "source": [
      "Code for Question 1 on Lab 1"
     ]
    },
    {
     "cell_type": "code",
     "collapsed": false,
     "input": [
      "#  Sets my enviornment\n",
      "\n",
      "arcpy.env.workspace = \"H:\\\\Geog_458\\\\Lab_1\\\\\""
     ],
     "language": "python",
     "metadata": {},
     "outputs": [],
     "prompt_number": 2
    },
    {
     "cell_type": "code",
     "collapsed": false,
     "input": [
      "arcpy.JoinField_management(\"saep_bg10.shp\",\"COUNTYFP10\",\"WashingtonFIPS.dbf\",\"FIPSCounty\",\"CountyName\")"
     ],
     "language": "python",
     "metadata": {},
     "outputs": [
      {
       "metadata": {},
       "output_type": "pyout",
       "prompt_number": 3,
       "text": [
        "<Result 'saep_bg10.shp'>"
       ]
      }
     ],
     "prompt_number": 3
    },
    {
     "cell_type": "code",
     "collapsed": false,
     "input": [
      "# Searches the field 'CountyName' and prints a list of all 39 counties in Washington\n",
      "\n",
      "cursor = arcpy.da.SearchCursor(\"saep_bg10.shp\", \"CountyName\")\n",
      "my_list = []\n",
      "for row in cursor: \n",
      "     if row[0] not in my_list:\n",
      "         my_list.append(row[0])\n",
      "print my_list                    # Prints all 39 counties in Washington\n",
      "\n",
      "del row                          # Deletes the row\n",
      "del cursor                       # Deletes the cursor\n",
      "            "
     ],
     "language": "python",
     "metadata": {},
     "outputs": [
      {
       "output_type": "stream",
       "stream": "stdout",
       "text": [
        "[u'Adams', u'Asotin', u'Benton', u'Chelan', u'Clallam', u'Clark', u'Columbia', u'Cowlitz', u'Douglas', u'Ferry', u'Franklin', u'Garfield', u'Grant', u'Grays Harbor', u'Island', u'Jefferson', u'King', u'Kitsap', u'Kittitas', u'Klickitat', u'Lewis', u'Lincoln', u'Mason', u'Okanogan', u'Pacific', u'Pend Oreille', u'Pierce', u'San Juan', u'Skagit', u'Skamania', u'Snohomish', u'Spokane', u'Stevens', u'Thurston', u'Wahkiakum', u'Walla Walla', u'Whatcom', u'Whitman', u'Yakima']\n"
       ]
      }
     ],
     "prompt_number": 7
    },
    {
     "cell_type": "code",
     "collapsed": false,
     "input": [
      "arcpy.env.OverwriteOutput = True                                   # Overwrites the script\n",
      "\n",
      "arcpy.MakeFeatureLayer_management(\"saep_bg10.dbf\", \"County_Shapefiles\")  # Inputs saep_bg10.dbf and outputs County_Layers\n",
      "\n",
      "for county in (my_list):\n",
      "\n",
      "    arcpy.SelectLayerByAttribute_management(\"County_Shapefiles\", \"NEW_SELECTION\", \" \\\"CountyName\\\" = '\"+county+\"'\")\n",
      "    \n",
      "    arcpy.CopyFeatures_management(\"County_Layr\", county)\n",
      "    \n",
      "arcpy.env.OverwriteOutput = False                                  # Ends the overwrite for the script\n"
     ],
     "language": "python",
     "metadata": {},
     "outputs": [],
     "prompt_number": 12
    },
    {
     "cell_type": "code",
     "collapsed": false,
     "input": [
      "# GeoJSON\n",
      "\n",
      "from subprocess import call\n",
      "import os\n",
      "\n",
      "os.environ[\"GDAL_DATA\"] = \"C:\\\\OSGeo4W\\\\share\\\\gdal\"\n",
      "os.environ[\"GDAL_DRIVER_PATH\"] = \"C:\\\\OSGeo4W\\\\bin\\\\gdalplugins\"\n",
      "os.environ[\"PROJ_LIB\"] = \"C:\\\\OSGeo4W\\\\share\\\\proj\"\n",
      "os.environ[\"PATH\"] = \"C:\\\\OSGeo4W\\\\bin;\"+os.environ[\"PATH\"]+\";C:\\\\OSGeo4W\\\\apps\\\\msys\\\\bin;C:\\\\OSGeo4W\\\\apps\\\\Python27\\\\Scripts\"\n",
      "\n"
     ],
     "language": "python",
     "metadata": {},
     "outputs": [],
     "prompt_number": 13
    },
    {
     "cell_type": "code",
     "collapsed": false,
     "input": [
      "for geojson in my_list:\n",
      "    geo = \"H:\\\\Geog_458\\\\Lab_1\\\\\" + geojson + \".geojson\"\n",
      "    json = \"H:\\\\Geog_458\\\\Lab_1\\\\\" + geojson + \".shp\"\n",
      "    call(['C:\\\\OSGeo4W\\\\bin\\\\ogr2ogr',\n",
      "      '-f','GeoJSON','-t_srs','WGS84',\n",
      "      '-s_srs','EPSG:2927', geo, json])\n",
      "    "
     ],
     "language": "python",
     "metadata": {},
     "outputs": [],
     "prompt_number": 14
    },
    {
     "cell_type": "code",
     "collapsed": false,
     "input": [],
     "language": "python",
     "metadata": {},
     "outputs": []
    },
    {
     "cell_type": "heading",
     "level": 4,
     "metadata": {},
     "source": [
      "Code for Question 2 on Lab 1"
     ]
    },
    {
     "cell_type": "code",
     "collapsed": false,
     "input": [
      "# Creates Workspace for ArcGIS\n",
      "\n",
      "arcpy.env.workspace = \"H:\\\\Geog_458\\\\Lab_1\\\\\""
     ],
     "language": "python",
     "metadata": {},
     "outputs": [],
     "prompt_number": 9
    },
    {
     "cell_type": "code",
     "collapsed": false,
     "input": [
      "# Joins saep_bg10.shp and WashingtonFIPS.dbf\n",
      "\n",
      "arcpy.JoinField_management(\"saep_bg10.shp\",\"COUNTYFP10\",\"WashingtonFIPS.dbf\",\"FIPSCounty\",\"CountyName\")"
     ],
     "language": "python",
     "metadata": {},
     "outputs": [
      {
       "metadata": {},
       "output_type": "pyout",
       "prompt_number": 10,
       "text": [
        "<Result 'saep_bg10.shp'>"
       ]
      }
     ],
     "prompt_number": 10
    },
    {
     "cell_type": "code",
     "collapsed": false,
     "input": [
      "# Dissolves saep_bg10.shp to show just counties\n",
      "\n",
      "arcpy.Dissolve_management(\"saep_bg10.shp\", \"dissolve_counties\", \"CountyName\")"
     ],
     "language": "python",
     "metadata": {},
     "outputs": [
      {
       "metadata": {},
       "output_type": "pyout",
       "prompt_number": 12,
       "text": [
        "<Result 'H:\\\\Geog_458\\\\Lab_1\\\\dissolve_counties.shp'>"
       ]
      }
     ],
     "prompt_number": 12
    },
    {
     "cell_type": "code",
     "collapsed": false,
     "input": [
      "# Joins POP2013 with the dissolved_counties.shp \n",
      "\n",
      "arcpy.JoinField_management(\"dissolve_counties.shp\",\"CountyName\",\"saep_bg10.shp\",\"CountyName\",\"POP2013\")\t"
     ],
     "language": "python",
     "metadata": {},
     "outputs": [
      {
       "metadata": {},
       "output_type": "pyout",
       "prompt_number": 15,
       "text": [
        "<Result 'dissolve_counties.shp'>"
       ]
      }
     ],
     "prompt_number": 15
    },
    {
     "cell_type": "code",
     "collapsed": false,
     "input": [
      "# Sorts POP2013 in DESCENDING order\n",
      "\n",
      "arcpy.Sort_management(\"dissolve_counties.shp\", \"POP2013_Sorted.shp\", [[\"POP2013\",\"DESCENDING\"]])"
     ],
     "language": "python",
     "metadata": {},
     "outputs": [
      {
       "metadata": {},
       "output_type": "pyout",
       "prompt_number": 17,
       "text": [
        "<Result 'H:\\\\Geog_458\\\\Lab_1\\\\POP2013_Sorted.shp'>"
       ]
      }
     ],
     "prompt_number": 17
    },
    {
     "cell_type": "code",
     "collapsed": false,
     "input": [
      "# Creates cursor for POP2013_Sorted \n",
      "# For statement for cursor\n",
      "# Prints the top ten counties based off of POP2013\n",
      "\n",
      "cursor = arcpy.da.SearchCursor(\"POP2013_Sorted.shp\",[\"CountyName\"], '\"FID\" < 10')\t\n",
      "for row in cursor:\n",
      "     print row [0]"
     ],
     "language": "python",
     "metadata": {},
     "outputs": [
      {
       "output_type": "stream",
       "stream": "stdout",
       "text": [
        "Whitman\n",
        "Benton\n",
        "Grays Harbor\n",
        "Kittitas\n",
        "Lewis\n",
        "Clark\n",
        "Pierce\n",
        "Ferry\n",
        "San Juan\n",
        "Asotin\n"
       ]
      }
     ],
     "prompt_number": 19
    },
    {
     "cell_type": "code",
     "collapsed": false,
     "input": [
      "# The above code doesn't produce the correct top ten counties in population from 2013\n",
      "# This is what I worked on as an attempt to figure out this assignment"
     ],
     "language": "python",
     "metadata": {},
     "outputs": []
    }
   ],
   "metadata": {}
  }
 ]
}